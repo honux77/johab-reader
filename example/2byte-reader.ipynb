{
 "cells": [
  {
   "cell_type": "markdown",
   "id": "8d483274",
   "metadata": {},
   "source": [
    "# 2바이트 한글 번역기\n"
   ]
  },
  {
   "cell_type": "code",
   "execution_count": 2,
   "id": "aeffd92b",
   "metadata": {},
   "outputs": [
    {
     "data": {
      "text/plain": [
       "['han.txt', 'honux.txt', 'mcom.txt', 'test2.txt']"
      ]
     },
     "execution_count": 2,
     "metadata": {},
     "output_type": "execute_result"
    }
   ],
   "source": [
    "import os\n",
    "# get txt files in current directory\n",
    "files = [f for f in os.listdir('.') if f.endswith('.txt')]\n",
    "files"
   ]
  },
  {
   "cell_type": "code",
   "execution_count": 5,
   "id": "41f15da2",
   "metadata": {},
   "outputs": [],
   "source": [
    "ba = []\n",
    "for file in files:\n",
    "    with open(file, 'rb') as f:\n",
    "        ba.append(f.read())\n"
   ]
  },
  {
   "cell_type": "markdown",
   "id": "66877751",
   "metadata": {},
   "source": [
    "## 2바이트 조합형 한글 읽기"
   ]
  },
  {
   "cell_type": "code",
   "execution_count": 17,
   "id": "a4658b15",
   "metadata": {},
   "outputs": [],
   "source": [
    "def divideJaso(b1, b2):\n",
    "    \"\"\"\n",
    "    한글 음절을 초성, 중성, 종성으로 분리\n",
    "\n",
    "    :param b1: 한글 음절의 첫번째 바이트\n",
    "    :param b2: 한글 음절의 두번째 바이트\n",
    "    \"\"\"\n",
    "    if b1 & 0x80 == 0:\n",
    "        raise Exception(\"b1, b2 is not Korean\")\n",
    "    \n",
    "    b51 = (b1 >> 2) & 0x1F  # 처음 5비트\n",
    "    b52 = (b1 & 0x03) << 3 | b2 >> 5 # 중간 5비트 (2 + 3비트)\n",
    "    b53 = b2 & 0x1F # 마지막 5비트    \n",
    "    return (b51, b52, b53)"
   ]
  },
  {
   "cell_type": "markdown",
   "id": "9dbb7b71",
   "metadata": {},
   "source": [
    "## 초성중성조합 합치기\n"
   ]
  },
  {
   "cell_type": "code",
   "execution_count": 12,
   "id": "72d1ddb3",
   "metadata": {},
   "outputs": [],
   "source": [
    "CHOSUNG = [0, 1, 2, 3, 4, 5, 6, 7, 8, 9, 10, 11, 12, 13, 14, 15, 16, 17, 18]\n",
    "JUNGSUNG = [0, 1, 2, 3, 4, 5, 6, 5, 6, 9, 8, 9, 12, 13, 12, 15, 16, 13, 14, 19, 20, 20, 20, 23, 18, 25, 20, 20]\n",
    "JONGSUNG = [0, 1, 2, 3, 4, 5, 6, 7, 8, 9, 10, 11, 12, 13, 14, 15, 16, 17, 17, 18, 20, 20, 21, 22, 24, 25, 26, 27]    "
   ]
  },
  {
   "cell_type": "code",
   "execution_count": 25,
   "id": "e16c78cd",
   "metadata": {},
   "outputs": [],
   "source": [
    "def composeHangul(b51, b52, b53):\n",
    "        i1 = CHOSUNG[b51- 2]\n",
    "        i2 = JUNGSUNG[b52 - 3]\n",
    "        i3 = JONGSUNG[b53 - 1]        \n",
    "        unicode = 0xAC00 + (i1 * 21 + i2) * 28 + i3\n",
    "        # print(b51, b52, b53, i1, i2, i3, chr(unicode))    \n",
    "        return chr(unicode)"
   ]
  },
  {
   "cell_type": "code",
   "execution_count": 26,
   "id": "ea394cea",
   "metadata": {},
   "outputs": [],
   "source": [
    "\n",
    "def readHan(ba):\n",
    "    res = []\n",
    "    i = 0\n",
    "    while i < len(ba):\n",
    "        # 첫 비트가 1이면 2바이트를 읽어 한글로 변환\n",
    "        if ba[i] & 0x80:\n",
    "            cho, jung, jong = divideJaso(ba[i], ba[i+1])\n",
    "            han = composeHangul(cho, jung, jong) \n",
    "            res.append(han)\n",
    "            i += 2\n",
    "        else:\n",
    "            res.append(chr(ba[i]))\n",
    "            i += 1\n",
    "    return \"\".join(res)"
   ]
  },
  {
   "cell_type": "code",
   "execution_count": 28,
   "id": "ddc94130",
   "metadata": {},
   "outputs": [
    {
     "name": "stdout",
     "output_type": "stream",
     "text": [
      "1234567890 aaa bbb ccc 가가가 가나다 하하하 aaa\n",
      "123 aaa bbb ccc 가나다 가갸거겨 각간갇 아안앋악 aaa\n",
      "\n",
      "\u001a\n"
     ]
    }
   ],
   "source": [
    "print(readHan(ba[0]))"
   ]
  },
  {
   "cell_type": "code",
   "execution_count": 29,
   "id": "c95a5eb6",
   "metadata": {},
   "outputs": [
    {
     "name": "stdout",
     "output_type": "stream",
     "text": [
      "1234567890 aaa bbb ccc 가가가 가나다 하하하 aaa\n",
      "123 aaa bbb ccc 가나다 가갸거겨 각간갇 아안앋악 aaa\n",
      "\n",
      "\u001a\n",
      "===\n",
      "\n",
      "안녕하세위?\n",
      "문서입니다.\n",
      "abcdefghijklmn\n",
      "1 2 3 4 5 6 7 8 9 0\n",
      "\n",
      "\u001a\n",
      "===\n",
      "\n",
      "마법 이야기\n",
      "마법을 배우기 이해\n",
      "졸업시험을 보는 '마이컴'\n",
      "졸업시험저 내윙은 마법쟈치원\n",
      "한 가운데에 이치한\n",
      "탑에 들어가 3개저 마법구슬을 가져오는 겄이다.\n",
      "'마이컴'은 과연\n",
      "3개저 마법구슬을 가져올 수 있는지\n",
      "\u001a\n",
      "===\n",
      "\n",
      "                                     애  국   가\n",
      "                                                                         안익태\n",
      "  동해물과 백두산이 마르고 닳도록\n",
      "  하느님이 보우하사 우리나라 만세\n",
      "\n",
      "  무궁화 삼천리 화려 강산\n",
      "  대한사람 대한으로 길이 보전하세\n",
      "\n",
      "  타잔이 10원짜리 팬티를 입지 않았다.\n",
      "\n",
      "  Amazing grace, how sweet the sound\n",
      "  That saves a wretch; like me!\n",
      "  I one was lost, but now am found,\n",
      "  Was blind, but now I see.\n",
      "  \\123,456,789 !@#$%^&*()_+\n",
      "\n",
      "\u001a\n",
      "===\n",
      "\n"
     ]
    }
   ],
   "source": [
    "for b in ba:\n",
    "    print(readHan(b))\n",
    "    print(\"===\\n\")"
   ]
  },
  {
   "cell_type": "code",
   "execution_count": null,
   "id": "28ca6227",
   "metadata": {},
   "outputs": [],
   "source": []
  }
 ],
 "metadata": {
  "kernelspec": {
   "display_name": "Python 3 (ipykernel)",
   "language": "python",
   "name": "python3"
  },
  "language_info": {
   "codemirror_mode": {
    "name": "ipython",
    "version": 3
   },
   "file_extension": ".py",
   "mimetype": "text/x-python",
   "name": "python",
   "nbconvert_exporter": "python",
   "pygments_lexer": "ipython3",
   "version": "3.11.3"
  }
 },
 "nbformat": 4,
 "nbformat_minor": 5
}
