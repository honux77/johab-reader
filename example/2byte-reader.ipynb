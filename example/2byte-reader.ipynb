{
 "cells": [
  {
   "cell_type": "markdown",
   "id": "8d483274",
   "metadata": {},
   "source": [
    "# 2바이트 한글 번역기\n"
   ]
  },
  {
   "cell_type": "code",
   "execution_count": 17,
   "id": "41f15da2",
   "metadata": {},
   "outputs": [
    {
     "name": "stdout",
     "output_type": "stream",
     "text": [
      "b'123 abc\\r\\n\\x88a\\x90a\\x94a\\x9ca\\xa0a\\xa4a\\xaca\\xb4a\\xb8a\\xc0a\\xc4a\\xc8a\\xcca\\xd0a\\r\\n\\x88a\\x88\\xa1\\x88\\xe1\\x89a\\x89\\xa1\\x8a'\n",
      "249\n"
     ]
    }
   ],
   "source": [
    "ba = None\n",
    "with open('test.txt', 'rb') as f:\n",
    "    ba = f.read()     \n",
    "print(ba[:50])\n",
    "print(len(ba))\n"
   ]
  },
  {
   "cell_type": "markdown",
   "id": "66877751",
   "metadata": {},
   "source": [
    "## 2바이트 조합형 한글 읽기"
   ]
  },
  {
   "cell_type": "code",
   "execution_count": 18,
   "id": "a4658b15",
   "metadata": {},
   "outputs": [],
   "source": [
    "def divideJaso(b1, b2):\n",
    "    \"\"\"\n",
    "    한글 음절을 초성, 중성, 종성으로 분리\n",
    "\n",
    "    :param b1: 한글 음절의 첫번째 바이트\n",
    "    :param b2: 한글 음절의 두번째 바이트\n",
    "    \"\"\"\n",
    "    if b1 & 0x80 == 0:\n",
    "        raise Exception(\"b1, b2 is not Korean\")\n",
    "    \n",
    "    b51 = (b1 >> 2) & 0x1F  # 처음 5비트\n",
    "    b52 = (b1 & 0x03) << 3 | b2 >> 5 # 중간 5비트 (2 + 3비트)\n",
    "    b53 = b2 & 0x1F # 마지막 5비트    \n",
    "    return (b51, b52, b53)"
   ]
  },
  {
   "cell_type": "markdown",
   "id": "9dbb7b71",
   "metadata": {},
   "source": [
    "## 초성중성조합 합치기\n",
    "\n",
    "참고자료: 유니코드 테이블 확인 https://ko.wikipedia.org/wiki/%ED%95%9C%EA%B8%80_%EC%9D%8C%EC%A0%88\n"
   ]
  },
  {
   "cell_type": "code",
   "execution_count": 38,
   "id": "72d1ddb3",
   "metadata": {},
   "outputs": [],
   "source": [
    "CHOREF = \"ㄱㄲㄴㄷㄸㄻㅂㅃㅅㅆㅇㅈㅉㅊㅋㅌㅍㅎ\"\n",
    "CHOSUNG = [0, 1, 2, 3, 4, 5, 6, 7, 8, 9, 10, 11, 12, 13, 14, 15, 16, 17, 18]\n",
    "JUREF = \"아애야얘어에여오와왜외우워위유으의이\"\n",
    "JUNGSUNG = [0, 1, 2, 3, 4, 5, 6, 5, 6, 7, 8, 9, 10, 11, 11, 11, 12, 13, 14, 15, 16, 17, 17, 17, 18, 19, 20, 22]\n",
    "JOREF = \"ㄱㄲㄳㄴㄵㄶㄷㄹㄺㄻㄼㄽㄾㄿㅀㅁㅂㅄㅅㅆㅇㅈㅊㅋㅌㅍㅎ\"\n",
    "JONGSUNG = [0, 1, 2, 3, 4, 5, 6, 7, 8, 9, 10, 11, 12, 13, 14, 15, 16, 17, 17, 18, 20, 20, 21, 22, 24, 25, 26, 27, 28]"
   ]
  },
  {
   "cell_type": "code",
   "execution_count": null,
   "id": "afc4ee94",
   "metadata": {},
   "outputs": [],
   "source": []
  },
  {
   "cell_type": "code",
   "execution_count": 26,
   "id": "e16c78cd",
   "metadata": {},
   "outputs": [],
   "source": [
    "def composeHangul(b51, b52, b53):\n",
    "        i1 = CHOSUNG[b51- 2]\n",
    "        i2 = JUNGSUNG[b52 - 3]\n",
    "        i3 = JONGSUNG[b53 - 1]        \n",
    "        unicode = 0xAC00 + (i1 * 21 + i2) * 28 + i3\n",
    "        print(b51, b52, b53, i1, i2, i3, chr(unicode))    \n",
    "        return chr(unicode)"
   ]
  },
  {
   "cell_type": "code",
   "execution_count": 29,
   "id": "ea394cea",
   "metadata": {},
   "outputs": [],
   "source": [
    "\n",
    "def readHan(ba):\n",
    "    res = []\n",
    "    i = 0\n",
    "    while i < len(ba):\n",
    "        # 첫 비트가 1이면 2바이트를 읽어 한글로 변환\n",
    "        if ba[i] & 0x80:\n",
    "            cho, jung, jong = divideJaso(ba[i], ba[i+1])\n",
    "            han = composeHangul(cho, jung, jong) \n",
    "            res.append(han)\n",
    "            i += 2\n",
    "        else:\n",
    "            res.append(chr(ba[i]))\n",
    "            i += 1\n",
    "    return \"\".join(res)"
   ]
  },
  {
   "cell_type": "code",
   "execution_count": 39,
   "id": "ddc94130",
   "metadata": {},
   "outputs": [
    {
     "name": "stdout",
     "output_type": "stream",
     "text": [
      "2 3 1 0 0 0 가\n",
      "4 3 1 2 0 0 나\n",
      "5 3 1 3 0 0 다\n",
      "7 3 1 5 0 0 라\n",
      "8 3 1 6 0 0 마\n",
      "9 3 1 7 0 0 바\n",
      "11 3 1 9 0 0 사\n",
      "13 3 1 11 0 0 아\n",
      "14 3 1 12 0 0 자\n",
      "16 3 1 14 0 0 차\n",
      "17 3 1 15 0 0 카\n",
      "18 3 1 16 0 0 타\n",
      "19 3 1 17 0 0 파\n",
      "20 3 1 18 0 0 하\n",
      "2 3 1 0 0 0 가\n",
      "2 5 1 0 2 0 갸\n",
      "2 7 1 0 4 0 거\n",
      "2 11 1 0 6 0 겨\n",
      "2 13 1 0 8 0 고\n",
      "2 19 1 0 12 0 교\n",
      "2 20 1 0 13 0 구\n",
      "2 26 1 0 18 0 그\n",
      "2 27 1 0 19 0 긔\n",
      "2 29 1 0 21 0 까\n",
      "2 3 2 0 0 1 각\n",
      "2 3 5 0 0 4 간\n",
      "2 3 8 0 0 7 갇\n",
      "2 3 9 0 0 8 갈\n",
      "2 3 17 0 0 16 감\n",
      "2 3 19 0 0 17 갑\n",
      "2 3 21 0 0 20 갔\n",
      "2 3 23 0 0 21 강\n",
      "2 3 24 0 0 22 갖\n",
      "2 3 25 0 0 24 갘\n",
      "2 3 26 0 0 25 같\n",
      "2 3 27 0 0 26 갚\n",
      "2 3 28 0 0 27 갛\n",
      "2 3 29 0 0 28 개\n",
      "2 3 1 0 0 0 가\n",
      "3 3 1 1 0 0 까\n",
      "4 3 1 2 0 0 나\n",
      "5 3 1 3 0 0 다\n",
      "6 3 1 4 0 0 따\n",
      "7 3 1 5 0 0 라\n",
      "8 3 1 6 0 0 마\n",
      "9 3 1 7 0 0 바\n",
      "10 3 1 8 0 0 빠\n",
      "11 3 1 9 0 0 사\n",
      "12 3 1 10 0 0 싸\n",
      "13 3 1 11 0 0 아\n",
      "14 3 1 12 0 0 자\n",
      "15 3 1 13 0 0 짜\n",
      "16 3 1 14 0 0 차\n",
      "17 3 1 15 0 0 카\n",
      "18 3 1 16 0 0 타\n",
      "19 3 1 17 0 0 파\n",
      "20 3 1 18 0 0 하\n",
      "13 3 1 11 0 0 아\n",
      "13 4 1 11 1 0 애\n",
      "13 5 1 11 2 0 야\n",
      "13 6 1 11 3 0 얘\n",
      "13 7 1 11 4 0 어\n",
      "13 10 1 11 5 0 에\n",
      "13 11 1 11 6 0 여\n",
      "13 12 1 11 7 0 예\n",
      "13 13 1 11 8 0 오\n",
      "13 14 1 11 9 0 와\n",
      "13 15 1 11 10 0 왜\n",
      "13 18 1 11 11 0 외\n",
      "13 19 1 11 12 0 요\n",
      "13 20 1 11 13 0 우\n",
      "13 21 1 11 14 0 워\n",
      "13 22 1 11 15 0 웨\n",
      "13 23 1 11 16 0 위\n",
      "13 26 1 11 18 0 으\n",
      "13 27 1 11 19 0 의\n",
      "13 28 1 11 20 0 이\n",
      "13 29 1 11 21 0 자\n",
      "13 3 2 11 0 1 악\n",
      "13 3 3 11 0 2 앆\n",
      "13 3 4 11 0 3 앇\n",
      "13 3 5 11 0 4 안\n",
      "13 3 6 11 0 5 앉\n",
      "13 3 7 11 0 6 않\n",
      "13 3 8 11 0 7 앋\n",
      "13 3 9 11 0 8 알\n",
      "13 3 10 11 0 9 앍\n",
      "13 3 11 11 0 10 앎\n",
      "13 3 12 11 0 11 앏\n",
      "13 3 13 11 0 12 앐\n",
      "13 3 14 11 0 13 앑\n",
      "13 3 15 11 0 14 앒\n",
      "13 3 16 11 0 15 앓\n",
      "13 3 17 11 0 16 암\n",
      "13 3 19 11 0 17 압\n",
      "13 3 20 11 0 18 앖\n",
      "13 3 21 11 0 20 았\n",
      "13 3 22 11 0 20 았\n",
      "13 3 23 11 0 21 앙\n",
      "13 3 24 11 0 22 앚\n",
      "13 3 25 11 0 24 앜\n",
      "13 3 26 11 0 25 앝\n",
      "13 3 27 11 0 26 앞\n",
      "13 3 28 11 0 27 앟\n",
      "13 3 29 11 0 28 애\n",
      "123 abc\n",
      "가나다라마바사아자차카타파하\n",
      "가갸거겨고교구그긔까\n",
      "각간갇갈감갑갔강갖갘같갚갛개\n",
      "\n",
      "가까나다따라마바빠사싸아자짜차카타파하\n",
      "\n",
      "아애야얘어에여예오와왜외요우워웨위으의이자\n",
      "\n",
      "악앆앇안앉않앋알앍앎앏앐앑앒앓암압앖았았앙앚앜앝앞앟애\n",
      "123 abc\n",
      "\n",
      "\u001a\n"
     ]
    }
   ],
   "source": [
    "print(readHan(ba))"
   ]
  },
  {
   "cell_type": "code",
   "execution_count": null,
   "id": "28ca6227",
   "metadata": {},
   "outputs": [],
   "source": []
  }
 ],
 "metadata": {
  "kernelspec": {
   "display_name": "Python 3 (ipykernel)",
   "language": "python",
   "name": "python3"
  },
  "language_info": {
   "codemirror_mode": {
    "name": "ipython",
    "version": 3
   },
   "file_extension": ".py",
   "mimetype": "text/x-python",
   "name": "python",
   "nbconvert_exporter": "python",
   "pygments_lexer": "ipython3",
   "version": "3.11.3"
  }
 },
 "nbformat": 4,
 "nbformat_minor": 5
}
